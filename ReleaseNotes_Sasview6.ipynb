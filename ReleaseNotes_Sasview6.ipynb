{
  "nbformat": 4,
  "nbformat_minor": 0,
  "metadata": {
    "colab": {
      "provenance": [],
      "authorship_tag": "ABX9TyM3x660QXduf9WIPEiDc7V4",
      "include_colab_link": true
    },
    "kernelspec": {
      "name": "python3",
      "display_name": "Python 3"
    },
    "language_info": {
      "name": "python"
    }
  },
  "cells": [
    {
      "cell_type": "markdown",
      "metadata": {
        "id": "view-in-github",
        "colab_type": "text"
      },
      "source": [
        "<a href=\"https://colab.research.google.com/github/SasView/documents/blob/master/ReleaseNotes_Sasview6.ipynb\" target=\"_parent\"><img src=\"https://colab.research.google.com/assets/colab-badge.svg\" alt=\"Open In Colab\"/></a>"
      ]
    },
    {
      "cell_type": "code",
      "execution_count": null,
      "metadata": {
        "id": "Tey59SK5wK4G"
      },
      "outputs": [],
      "source": []
    },
    {
      "cell_type": "markdown",
      "source": [
        "Similar to https://www.sasview.org/docs/user/RELEASE.html#new-in-version-5-0-6, we are preparing release notes for Sasview 6.0 and it would be helpful to highlight the major changes in the new version of Sasview. Please list below what has been fixed, new features and new documentation/tutorials. If you are not sure if it’s relevant, please add anyway."
      ],
      "metadata": {
        "id": "vFOFVd4FwRFq"
      }
    },
    {
      "cell_type": "markdown",
      "source": [
        "**Issues Fixed**\n",
        "\n",
        "\n",
        "This is a point release which fixes a number of issues reported in earlier versions of 5.0.x. Of particular note:\n",
        "\n",
        "\n",
        "*   List item\n",
        "*   List item\n",
        "\n",
        "\n"
      ],
      "metadata": {
        "id": "DckNISb9wT_w"
      }
    },
    {
      "cell_type": "markdown",
      "source": [
        "**New Features**\n",
        "\n",
        "There are also some new features in this version. Most notably:\n",
        "\n",
        "\n",
        "*   List item\n",
        "*   List item\n",
        "\n"
      ],
      "metadata": {
        "id": "lIFd2E6vwqDw"
      }
    },
    {
      "cell_type": "markdown",
      "source": [
        "**Documentation and Tutorial Changes/Additions**\n",
        "\n",
        "\n",
        "*   List item\n",
        "*   List item\n",
        "\n"
      ],
      "metadata": {
        "id": "_IK_rDS5w3ER"
      }
    }
  ]
}