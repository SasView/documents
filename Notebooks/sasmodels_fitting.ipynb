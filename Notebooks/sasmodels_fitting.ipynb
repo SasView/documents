{
 "cells": [
  {
   "cell_type": "markdown",
   "id": "a6bc3155-4a44-44c0-b010-39a761166bff",
   "metadata": {},
   "source": [
    "## Simple fitting with sasmodels and bumps\n",
    "The model functions from sasmodels can be used to fit experimental data. This can be done using bumps, which simillar to sasmodels is a separate package and needs to be installed in your path."
   ]
  },
  {
   "cell_type": "markdown",
   "id": "c1dd8a8f-bc84-492b-9c00-5470f17f5403",
   "metadata": {},
   "source": [
    "## Import sasmodels and bumps"
   ]
  },
  {
   "cell_type": "code",
   "execution_count": null,
   "id": "622fa177-79c4-4eb4-860f-14948a9131d0",
   "metadata": {},
   "outputs": [],
   "source": [
    "from sasmodels.core import load_model\n",
    "from sasmodels.bumps_model import Model, Experiment\n",
    "from sasmodels.data import load_data\n",
    "\n",
    "from bumps.names import *\n",
    "from bumps.fitters import fit\n",
    "from bumps.formatnum import format_uncertainty\n",
    "\n",
    "import matplotlib.pyplot as plt"
   ]
  },
  {
   "cell_type": "markdown",
   "id": "09b4524e-0237-42da-afb1-3ee75e7dd250",
   "metadata": {},
   "source": [
    "## Load the data"
   ]
  },
  {
   "cell_type": "code",
   "execution_count": null,
   "id": "438bfbc7-70d8-40f6-b75e-d0dc526352b1",
   "metadata": {},
   "outputs": [],
   "source": [
    "test_data = load_data('test_data.txt')"
   ]
  },
  {
   "cell_type": "code",
   "execution_count": null,
   "id": "3e08574a-967d-4e9e-b817-9a66a8320c68",
   "metadata": {},
   "outputs": [],
   "source": [
    "#TODO: Print and plot data \n",
    "plt.plot(test_data.x, test_data.y)\n",
    "plt.yscale('log')"
   ]
  },
  {
   "cell_type": "markdown",
   "id": "6c1983cd-9f53-48a6-9c3a-f20dddd8a079",
   "metadata": {},
   "source": [
    "## Setup model"
   ]
  },
  {
   "cell_type": "code",
   "execution_count": null,
   "id": "832585a5-988c-4d82-8948-1d4beb694b56",
   "metadata": {},
   "outputs": [],
   "source": [
    "kernel = load_model('cylinder')\n",
    "pars = dict(radius=35, \n",
    "            length=350,\n",
    "            background=0.0,\n",
    "            scale=1.0,\n",
    "            sld=4.0,\n",
    "            sld_solvent=1.0)\n",
    "model = Model(kernel, **pars)\n",
    "\n",
    "# SET THE FITTING PARAMETERS\n",
    "model.radius.range(1, 50)\n",
    "model.length.range(1, 500)\n"
   ]
  },
  {
   "cell_type": "markdown",
   "id": "81f92d63-be03-47d1-b645-69bf86f4aa6c",
   "metadata": {},
   "source": [
    "## Setup Optimizer (Bumps)"
   ]
  },
  {
   "cell_type": "code",
   "execution_count": null,
   "id": "c1c8c3f0-3115-4261-80c8-120a4e281ce2",
   "metadata": {},
   "outputs": [],
   "source": [
    "M = Experiment(data=test_data, model=model)\n",
    "problem = FitProblem(M)"
   ]
  },
  {
   "cell_type": "markdown",
   "id": "bfd7583c-7ac4-4462-89b0-84356b4468ec",
   "metadata": {},
   "source": [
    "## Compute initial model"
   ]
  },
  {
   "cell_type": "code",
   "execution_count": null,
   "id": "94488ceb-66c5-4afa-81cc-9ddde8421008",
   "metadata": {},
   "outputs": [],
   "source": [
    "print(f\"Initial chisq {problem.chisq()}\")\n",
    "problem.plot()"
   ]
  },
  {
   "cell_type": "markdown",
   "id": "89fd3f00-70d8-46ca-9a26-745b89910e71",
   "metadata": {},
   "source": [
    "## Fit model to the data"
   ]
  },
  {
   "cell_type": "code",
   "execution_count": null,
   "id": "bc30d978-6857-409c-8bbf-741a373df8c9",
   "metadata": {},
   "outputs": [],
   "source": [
    "result = fit(problem, method='amoeba')\n",
    "print(f\"Final chisq {problem.chisq()}\")\n",
    "for k, v, dv in zip(problem.labels(), result.x, result.dx):\n",
    "    print(f\"{k} : {format_uncertainty(v, dv)}\")\n",
    "problem.plot()"
   ]
  },
  {
   "cell_type": "code",
   "execution_count": null,
   "id": "847ad23e-e43c-400b-8137-a70119461c0a",
   "metadata": {},
   "outputs": [],
   "source": []
  }
 ],
 "metadata": {
  "kernelspec": {
   "display_name": "Python 3 (ipykernel)",
   "language": "python",
   "name": "python3"
  },
  "language_info": {
   "codemirror_mode": {
    "name": "ipython",
    "version": 3
   },
   "file_extension": ".py",
   "mimetype": "text/x-python",
   "name": "python",
   "nbconvert_exporter": "python",
   "pygments_lexer": "ipython3",
   "version": "3.8.12"
  }
 },
 "nbformat": 4,
 "nbformat_minor": 5
}
