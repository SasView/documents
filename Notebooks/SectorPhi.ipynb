{
 "cells": [
  {
   "cell_type": "markdown",
   "id": "bb4d015d-8c44-48f1-8cba-8a2013308c19",
   "metadata": {},
   "source": [
    "# Notebook using SectorPhi from SasView\n",
    "\n",
    "Please refer to `Installer.ipynb` for details on SasView dependencies.\n",
    "\n",
    "## Load libraries"
   ]
  },
  {
   "cell_type": "code",
   "execution_count": null,
   "id": "a237969b-c18d-498a-8f4d-1cd4c121cb6b",
   "metadata": {},
   "outputs": [],
   "source": [
    "from sas.sascalc.dataloader.loader import Loader\n",
    "import matplotlib.pyplot as plt\n",
    "import numpy as np\n",
    "from sas.sascalc.dataloader.data_info import plottable_2D\n",
    "from sas.sascalc.dataloader.manipulations import SectorPhi\n",
    "import os\n",
    "\n",
    "from matplotlib.colors import LogNorm\n",
    "import matplotlib as mpl\n",
    "\n",
    "plt.rcParams.update({'font.size': 16})"
   ]
  },
  {
   "cell_type": "markdown",
   "id": "e96c2dd9-dda8-4cff-b6a6-bdef76597958",
   "metadata": {},
   "source": [
    "## Sign convention\n",
    "The figure below shows the convention of origin and orientation for the azimuthal angle $\\phi$ used in SasView.\n",
    "\n",
    "**Note:** Method to plot the following figure inspired from https://stackoverflow.com/questions/37512502/how-to-make-arrow-that-loops-in-matplotlib"
   ]
  },
  {
   "cell_type": "code",
   "execution_count": null,
   "id": "b3ae835d-e4d0-4207-8851-3fbabd301815",
   "metadata": {},
   "outputs": [],
   "source": [
    "radius = 1.6\n",
    "\n",
    "fig, ax = plt.subplots(figsize=(6,6))\n",
    "\n",
    "# Draw point at origin\n",
    "ax.plot(0, 0, color = 'black', marker = 'o')\n",
    "\n",
    "# Draw circle\n",
    "a_circle_max = plt.Circle((0, 0), \n",
    "                          radius-0.1, \n",
    "                          fill=False, \n",
    "                          edgecolor=\"black\", \n",
    "                          linestyle=\"--\")\n",
    "ax.add_artist(a_circle_max)\n",
    "\n",
    "# Draw body of arrow\n",
    "x = [-radius * np.cos(np.deg2rad(ang)) for ang in np.arange(90)]\n",
    "y = [-radius * np.sin(np.deg2rad(ang)) for ang in np.arange(90)]\n",
    "ax.plot(x, y, 'black')\n",
    "\n",
    "# Draw arrow head\n",
    "xlast = x[-1]\n",
    "ylast = y[-1]\n",
    "\n",
    "x = [xlast + 0.1 * radius * np.cos(np.deg2rad(195)), \n",
    "     xlast, \n",
    "     xlast + 0.1 * radius * np.cos(np.deg2rad(155))]\n",
    "y = [ylast + 0.1 * radius * np.sin(np.deg2rad(195)), \n",
    "     ylast, \n",
    "     ylast + 0.1 * radius * np.sin(np.deg2rad(155))]\n",
    "\n",
    "ax.plot(x, y, 'black')\n",
    "\n",
    "# Add labels\n",
    "ax.annotate(\"y\", \n",
    "            xy=(0, -radius),\n",
    "            xytext=(0, 1.8),\n",
    "            arrowprops=dict(arrowstyle=\"<-\"))\n",
    "ax.annotate(\"x\", \n",
    "            xy=(-radius, 0), \n",
    "            xytext=(1.8, 0), \n",
    "            arrowprops=dict(arrowstyle=\"<-\"))\n",
    "\n",
    "ax.text(-1, -1, r\"$\\phi$\", ha='left', rotation=15, wrap=True)\n",
    "ax.set_xlim(-2, 2)\n",
    "ax.set_ylim(-2, 2)\n",
    "\n",
    "# Remove axes and frame \n",
    "ax.set_aspect('equal')\n",
    "ax.get_xaxis().set_ticks([])\n",
    "ax.get_yaxis().set_ticks([])\n",
    "ax.axis('off');"
   ]
  },
  {
   "cell_type": "markdown",
   "id": "65c107c9-4741-456c-a67a-28ecf7b9a76c",
   "metadata": {},
   "source": [
    "## Load data\n",
    "\n",
    "The datafile is part of the SasView test suite."
   ]
  },
  {
   "cell_type": "code",
   "execution_count": null,
   "id": "2aca413f-3b14-4809-9fd5-93aabce14385",
   "metadata": {},
   "outputs": [],
   "source": [
    "data_run = Loader().load(\"./notebook_files/P123_D2O_10_percent.dat\")\n",
    "\n",
    "qx_data = data_run[0].qx_data\n",
    "qy_data = data_run[0].qy_data\n",
    "data = data_run[0].data\n",
    "q_data = np.sqrt(qx_data**2 + qy_data**2)\n",
    "name = os.path.splitext(os.path.basename(data_run[0].filename))[0]"
   ]
  },
  {
   "cell_type": "markdown",
   "id": "1536b033-784e-4ae2-b4d5-e633738f2bb3",
   "metadata": {},
   "source": [
    "## Define sector"
   ]
  },
  {
   "cell_type": "code",
   "execution_count": null,
   "id": "69b5dcbf-5579-4000-8c89-e1c269278cbb",
   "metadata": {},
   "outputs": [],
   "source": [
    "# number of sectors for phi between 0 and 2Pi\n",
    "nbins_phi = 6\n",
    "\n",
    "# minimum and maximum of ||q|| range\n",
    "r_min = 0.01\n",
    "r_max = 0.7 * np.sqrt(qx_data.max()**2 + qy_data.max()**2)\n",
    "\n",
    "sect = SectorPhi(r_min=r_min, \n",
    "                 r_max=r_max,\n",
    "                 phi_min=0,\n",
    "                 phi_max=2 * np.pi,\n",
    "                 nbins=nbins_phi)\n",
    "\n",
    "print(f\"r_max={sect.r_max}, r_min={sect.r_min}, phi_max={sect.phi_max}, phi_min={sect.phi_min}.\")"
   ]
  },
  {
   "cell_type": "markdown",
   "id": "8c799837-b7d8-47f7-a00c-8f68e8198f59",
   "metadata": {},
   "source": [
    "## Visualise azimuthal sectors"
   ]
  },
  {
   "cell_type": "code",
   "execution_count": null,
   "id": "1e5022c8-0d70-4e90-9b26-0ad308c9fc8d",
   "metadata": {},
   "outputs": [],
   "source": [
    "qx_data_1d = data_run[0].x_bins\n",
    "qy_data_1d = data_run[0].y_bins\n",
    "\n",
    "nb_points_x = len(qx_data_1d)\n",
    "nb_points_y = len(qy_data_1d)\n",
    "lines_sectors = np.zeros((sect.nbins, nb_points_x))\n",
    "\n",
    "for i in range(sect.nbins):\n",
    "    lines_sectors[i,:] = np.tan((sect.phi_max - sect.phi_min) / sect.nbins * i) * qx_data_1d"
   ]
  },
  {
   "cell_type": "code",
   "execution_count": null,
   "id": "dc06d4a0-f663-4201-9071-a973c4a514cf",
   "metadata": {},
   "outputs": [],
   "source": [
    "fig, ax = plt.subplots(figsize=(10,10))\n",
    "c = plt.pcolormesh(\n",
    "    qx_data_1d,\n",
    "    qy_data_1d,\n",
    "    data.reshape(nb_points_x, nb_points_y), \n",
    "    norm=LogNorm())\n",
    "\n",
    "# plot sectors' limits\n",
    "for i in range(sect.nbins):\n",
    "    ax.plot(qx_data_1d, lines_sectors[i, :], 'c--')\n",
    "    \n",
    "# plot rmin, rmax\n",
    "a_circle_min = plt.Circle(\n",
    "    (0, 0), \n",
    "    r_min, \n",
    "    fill=False, \n",
    "    edgecolor=\"orange\", \n",
    "    linestyle=\"--\")\n",
    "\n",
    "ax.add_artist(a_circle_min)\n",
    "\n",
    "a_circle_max = plt.Circle(\n",
    "    (0, 0), \n",
    "    r_max, \n",
    "    fill=False, \n",
    "    edgecolor=\"orange\", \n",
    "    linestyle=\"--\")\n",
    "\n",
    "ax.add_artist(a_circle_max)\n",
    "\n",
    "ax.grid()\n",
    "ax.set_aspect('equal', 'box')\n",
    "ax.set_xlim((np.min(qx_data_1d), np.max(qx_data_1d)))\n",
    "ax.set_ylim((np.min(qy_data_1d), np.max(qy_data_1d)))\n",
    "ax.set_xticks(np.linspace(-0.1, 0.1, 5))\n",
    "ax.set_yticks(np.linspace(-0.1, 0.1, 5))\n",
    "ax.set(title=name, xlabel=r'$q_x$', ylabel=r'$q_y$')\n",
    "cbar = plt.colorbar(c, label='Intensity (arbitrary units)');"
   ]
  },
  {
   "cell_type": "markdown",
   "id": "ede536c5-398b-44f2-8598-024c78be0f13",
   "metadata": {},
   "source": [
    "## Calculate average"
   ]
  },
  {
   "cell_type": "code",
   "execution_count": null,
   "id": "3f898d8f-9058-49f1-87e9-678e63eb503f",
   "metadata": {},
   "outputs": [],
   "source": [
    "# make the data plottable in order to be able to use SectorPhi\n",
    "data_plottable = plottable_2D(\n",
    "    data=data,\n",
    "    err_data=np.zeros(data.shape),\n",
    "    qx_data=qx_data,\n",
    "    qy_data=qy_data, \n",
    "    q_data=q_data)\n",
    "\n",
    "sector = sect(data_plottable)"
   ]
  },
  {
   "cell_type": "markdown",
   "id": "0d1393ea-d471-4576-ba18-196085ab2a6a",
   "metadata": {},
   "source": [
    "## Plot result"
   ]
  },
  {
   "cell_type": "code",
   "execution_count": null,
   "id": "98221cb1-6c68-46eb-b4b5-da304f10b6f8",
   "metadata": {},
   "outputs": [],
   "source": [
    "fig, ax = plt.subplots(figsize=(7, 7))\n",
    "ax.plot(np.rad2deg(sector.x), sector.y, 'o-')\n",
    "ax.set(title=name,\n",
    "       xlabel=r'$\\phi$ (degrees)',\n",
    "       ylabel='Integrated intensity (arbitrary units)')\n",
    "ax.grid();"
   ]
  },
  {
   "cell_type": "markdown",
   "id": "afabb505-087f-4e7d-b7c9-707b92d89503",
   "metadata": {},
   "source": [
    "## Tests of `sectorPhi` with simple 2D cases\n",
    "\n",
    "For the following tests, we only consider the full $\\phi$-range = 0, 2 $\\pi$ divided into 4 sectors.  \n",
    "We want to check the correctness of the average calculated in all $\\phi$ sectors using different simple 2D cases.\n",
    "\n",
    "### Settings for the $q$-vectors"
   ]
  },
  {
   "cell_type": "code",
   "execution_count": null,
   "id": "cd6bd176-0337-4428-a790-d3f53848fb4d",
   "metadata": {},
   "outputs": [],
   "source": [
    "nbins = 150\n",
    "\n",
    "qx_data_1d = np.linspace(-0.149, 0.149, nbins)\n",
    "\n",
    "qy_data_1d = qx_data_1d\n",
    "\n",
    "qx_data = []\n",
    "qy_data = []\n",
    "\n",
    "for i in range(nbins):\n",
    "    qx_data.append(qx_data_1d)\n",
    "    qy_data.append(nbins*[qx_data_1d[i]])\n",
    "\n",
    "qx_data = np.asarray(qx_data)\n",
    "qy_data = np.asarray(qy_data)\n",
    "q_data = np.sqrt(qx_data**2 + qy_data**2)\n",
    "\n",
    "nb_points_x = len(qx_data_1d)\n",
    "nb_points_y = len(qy_data_1d)\n",
    "\n",
    "qx_data = qx_data.flatten()\n",
    "qy_data = qy_data.flatten()"
   ]
  },
  {
   "cell_type": "markdown",
   "id": "e06e2c97-396a-4fae-bc7d-82bffa05b495",
   "metadata": {},
   "source": [
    "### Settings for `SectorPhi`"
   ]
  },
  {
   "cell_type": "code",
   "execution_count": null,
   "id": "812e4fa5-b9e1-4e8a-a03f-85436f60f313",
   "metadata": {},
   "outputs": [],
   "source": [
    "nbins_phi = 4\n",
    "r_min = 0.0\n",
    "# large r_max to consider all points of the input matrix\n",
    "r_max = 2 * np.sqrt(qx_data.max()**2 + qy_data.max()**2)\n",
    "\n",
    "sect = SectorPhi(r_min=r_min, \n",
    "                 r_max=r_max,\n",
    "                 phi_min=0,\n",
    "                 phi_max=2 * np.pi,\n",
    "                 nbins=nbins_phi)"
   ]
  },
  {
   "cell_type": "markdown",
   "id": "0d65aed3-43ca-49c1-8364-2680b0fb0ac5",
   "metadata": {},
   "source": [
    "### Definitions of the borders of the azimuthal sectors\n",
    "These lines are used to plot over the 2D image to check the settings."
   ]
  },
  {
   "cell_type": "code",
   "execution_count": null,
   "id": "7219da69-646a-4c5d-9bbe-13570e2e6cb8",
   "metadata": {},
   "outputs": [],
   "source": [
    "lines_sectors = np.zeros((sect.nbins, nb_points_x))\n",
    "\n",
    "for i in range(sect.nbins):\n",
    "    lines_sectors[i,:] = np.tan((sect.phi_max - sect.phi_min) / sect.nbins * i) * qx_data_1d"
   ]
  },
  {
   "cell_type": "code",
   "execution_count": null,
   "id": "8014783b-1ae8-43bc-872d-e2b51138bea0",
   "metadata": {},
   "outputs": [],
   "source": [
    "def plot_settings(data, title_plot):\n",
    "    \"\"\"\n",
    "    Plot 2D image with layout of azimuthal sectors and radial q-area to be used for averaging\n",
    "    \"\"\"\n",
    "    fig, ax = plt.subplots(figsize=(10, 10))\n",
    "    ax.set_aspect('equal', 'box')\n",
    "    c = plt.pcolormesh(\n",
    "        qx_data_1d,\n",
    "        qy_data_1d,\n",
    "        data.reshape(nb_points_x, nb_points_y), \n",
    "        norm=LogNorm())\n",
    "    \n",
    "    # plot sectors' limits\n",
    "    for i in range(sect.nbins):\n",
    "        ax.plot(qx_data_1d, lines_sectors[i, :], 'c--')\n",
    "    \n",
    "    # plot rmin, rmax\n",
    "    a_circle_min = plt.Circle(\n",
    "        (0, 0),\n",
    "        r_min,\n",
    "        fill=False,\n",
    "        edgecolor=\"orange\",\n",
    "        linestyle=\"--\")\n",
    "\n",
    "    ax.add_artist(a_circle_min)\n",
    "\n",
    "    a_circle_max = plt.Circle(\n",
    "        (0, 0), \n",
    "        r_max, \n",
    "        fill=False, \n",
    "        edgecolor=\"orange\", \n",
    "        linestyle=\"--\")\n",
    "\n",
    "    ax.add_artist(a_circle_max)\n",
    "\n",
    "    ax.grid()\n",
    "    ax.set_xlim((np.min(qx_data_1d), np.max(qx_data_1d)))\n",
    "    ax.set_ylim((np.min(qy_data_1d), np.max(qy_data_1d)))\n",
    "    ax.set(title=title_plot,\n",
    "           xlabel=r'$q_x$',\n",
    "           ylabel=r'$q_y$')\n",
    "    cbar = plt.colorbar(c);  \n",
    "\n",
    "\n",
    "def plot_result(sector_phi, title_plot):\n",
    "    \"\"\"\n",
    "    Plot azimuthal average as function of phi in degrees\n",
    "    \"\"\"\n",
    "    fig, ax = plt.subplots(figsize=(7, 7))\n",
    "    ax.plot(np.rad2deg(sector_phi.x), sector_phi.y, 'o-')\n",
    "    ax.grid()\n",
    "    ax.set(title=title_plot, \n",
    "           xlabel=r'$\\phi$ (degrees)', \n",
    "           ylabel='Integrated intensity (arbitrary units)')"
   ]
  },
  {
   "cell_type": "markdown",
   "id": "29bf89b9-0fc2-42ea-ae76-f60656f3369b",
   "metadata": {},
   "source": [
    "## Case 1: Matrix of 1s\n",
    "\n",
    "The square matrix is filled with 1."
   ]
  },
  {
   "cell_type": "code",
   "execution_count": null,
   "id": "db15aba7-2604-47dd-897e-301247daeb35",
   "metadata": {},
   "outputs": [],
   "source": [
    "data_ones = np.ones((nbins, nbins)).flatten()"
   ]
  },
  {
   "cell_type": "code",
   "execution_count": null,
   "id": "93358582-c1f4-4dc3-a726-8b5aa8f82ce5",
   "metadata": {},
   "outputs": [],
   "source": [
    "plot_settings(data_ones, 'Matrix of 1s')"
   ]
  },
  {
   "cell_type": "code",
   "execution_count": null,
   "id": "581ece94-0ed3-4743-8c84-69e889c976ae",
   "metadata": {},
   "outputs": [],
   "source": [
    "# make the data plottable in order to be able to use SectorPhi\n",
    "data_plottable_ones= plottable_2D(\n",
    "    data=data_ones,\n",
    "    err_data=np.zeros(data_ones.shape),\n",
    "    qx_data=qx_data,\n",
    "    qy_data=qy_data, \n",
    "    q_data=np.sqrt(qx_data**2 + qy_data**2))\n",
    "\n",
    "sector_ones = sect(data_plottable_ones)\n",
    "\n",
    "plot_result(sector_ones, 'Matrix of 1s')"
   ]
  },
  {
   "cell_type": "code",
   "execution_count": null,
   "id": "ff04cbec-1e38-4220-871e-e631fa52f3d0",
   "metadata": {},
   "outputs": [],
   "source": [
    "np.testing.assert_array_equal(\n",
    "    sector_ones.y,\n",
    "    np.ones(4), \n",
    "    err_msg=\"\"\"The result from SectorPhi does not correspond to the theoretical value.\"\"\"\n",
    ")"
   ]
  },
  {
   "cell_type": "markdown",
   "id": "9842bead-9b0d-4733-9e2c-ac08c68174c7",
   "metadata": {},
   "source": [
    "## Case 2: Disk of 1s centered at 0,0"
   ]
  },
  {
   "cell_type": "code",
   "execution_count": null,
   "id": "723d1008-08e4-4c7d-9031-b6482cce68c1",
   "metadata": {},
   "outputs": [],
   "source": [
    "data_circle = np.zeros((nbins, nbins))\n",
    "\n",
    "# counts per sectors \n",
    "\n",
    "count_mm = 0  # q_x<0, q_y<0\n",
    "count_mp = 0  # q_x<0, q_y>0\n",
    "count_pm = 0  # q_x>0, q_y<0\n",
    "count_pp = 0  # q_x>0, q_y>0\n",
    "\n",
    "for i in range(nbins):\n",
    "    for j in range(nbins):   \n",
    "        if np.sqrt((i-nbins//2)**2 + (j-nbins//2)**2) < 20:\n",
    "            data_circle[i, j] = 1\n",
    "            # count ones in each sector\n",
    "            if qx_data_1d[i]>0:\n",
    "                if qy_data_1d[j]>0:\n",
    "                    count_pp += 1\n",
    "                else:\n",
    "                    count_pm += 1\n",
    "            else:\n",
    "                if qy_data_1d[j]>0:\n",
    "                    count_mp += 1\n",
    "                else:\n",
    "                    count_mm += 1  \n",
    "            \n",
    "data_circle = data_circle.flatten()"
   ]
  },
  {
   "cell_type": "code",
   "execution_count": null,
   "id": "de448334-e0f9-4630-a929-5328af1399ab",
   "metadata": {},
   "outputs": [],
   "source": [
    "assert np.count_nonzero(data_circle==1) == count_mm + count_pp + count_mp + count_pm, \\\n",
    "\"\"\"Some of the 1-values have been missed.\"\"\""
   ]
  },
  {
   "cell_type": "code",
   "execution_count": null,
   "id": "cb5c580c-a8d9-41b1-a5c8-2c2cd447a32c",
   "metadata": {},
   "outputs": [],
   "source": [
    "plot_settings(data_circle, 'Disk of 1s')"
   ]
  },
  {
   "cell_type": "code",
   "execution_count": null,
   "id": "78a1539a-e350-42e5-be08-7af5359e7003",
   "metadata": {},
   "outputs": [],
   "source": [
    "# make the data plottable in order to be able to use SectorPhi\n",
    "data_plottable_c = plottable_2D(\n",
    "    data=data_circle,\n",
    "    err_data=np.zeros(data_circle.shape),\n",
    "    qx_data=qx_data,\n",
    "    qy_data=qy_data, \n",
    "    q_data=np.sqrt(qx_data**2 + qy_data**2))\n",
    "\n",
    "sector_circle = sect(data_plottable_c)\n",
    "\n",
    "plot_result(sector_circle, 'Disk')"
   ]
  },
  {
   "cell_type": "code",
   "execution_count": null,
   "id": "b6f8db0b-9941-484a-b09a-4623010a3ea3",
   "metadata": {},
   "outputs": [],
   "source": [
    "# check that the azimuthal average corresponds to the number of ones per sector divided \n",
    "# by the size of the sector.\n",
    "nbins_per_sect = (nbins**2/nbins_phi)\n",
    "assert all(sector_circle.y == [\n",
    "    count_mm/nbins_per_sect, \n",
    "    count_mp/nbins_per_sect, \n",
    "    count_pp/nbins_per_sect,\n",
    "    count_pm/nbins_per_sect]), \\\n",
    "\"\"\" the result from SectorPhi does not correspond to the number of ones per sector divided \n",
    "by the number of bins per sector\"\"\""
   ]
  },
  {
   "cell_type": "markdown",
   "id": "4b8805a5-5dde-4210-b431-feb5d6b4ba66",
   "metadata": {},
   "source": [
    "## Case 3: circle centered at 0, 0 with zeros at the sectors' edges"
   ]
  },
  {
   "cell_type": "code",
   "execution_count": null,
   "id": "a361d758-d897-4314-852d-0f774e1ef2ad",
   "metadata": {},
   "outputs": [],
   "source": [
    "data_circle0 = np.zeros((nbins, nbins))\n",
    "\n",
    "# counts per sectors \n",
    "\n",
    "count_mm = 0  # q_x<0, q_y<0\n",
    "count_mp = 0  # q_x<0, q_y>0\n",
    "count_pm = 0  # q_x>0, q_y<0\n",
    "count_pp = 0  # q_x>0, q_y>0\n",
    "\n",
    "for i in range(nbins):\n",
    "    for j in range(nbins):\n",
    "        if np.sqrt((i - nbins//2)**2 + (j - nbins//2)**2) < 20:\n",
    "            data_circle0[i, j] = 1\n",
    "            \n",
    "            if qx_data_1d[i]>0:\n",
    "                if qy_data_1d[j]>0:\n",
    "                    count_pp += 1\n",
    "                else:\n",
    "                    count_pm += 1      \n",
    "            else: \n",
    "                if qy_data_1d[j]>0:\n",
    "                    count_mp += 1\n",
    "                else:\n",
    "                    count_mm += 1  \n",
    "            \n",
    "            if i-nbins//2 == 0 or j-nbins//2 == 0:   \n",
    "                data_circle0[i, j] = 0\n",
    "                if qx_data_1d[i]>0:\n",
    "                    if qy_data_1d[j]>0:\n",
    "                        count_pp -= 1\n",
    "                    else: \n",
    "                        count_pm -= 1    \n",
    "                else: \n",
    "                    if qy_data_1d[j]>0:\n",
    "                        count_mp -= 1\n",
    "                    else:\n",
    "                        count_mm -= 1  \n",
    "\n",
    "data_circle0 = data_circle0.flatten()"
   ]
  },
  {
   "cell_type": "code",
   "execution_count": null,
   "id": "5ae10c7e-200d-4482-8ded-29a894b5784c",
   "metadata": {},
   "outputs": [],
   "source": [
    "assert np.count_nonzero(data_circle0==1) == count_mm+count_pp+count_mp+count_pm, \\\n",
    "\"\"\"Some of the 1-values have been missed.\"\"\""
   ]
  },
  {
   "cell_type": "code",
   "execution_count": null,
   "id": "9421a70d-87b8-461e-832c-c15f2facf729",
   "metadata": {},
   "outputs": [],
   "source": [
    "plot_settings(data_circle0, 'Disk of 1s with 0s on axes')"
   ]
  },
  {
   "cell_type": "code",
   "execution_count": null,
   "id": "90a08754-2c44-4e92-b3a0-0fad17996025",
   "metadata": {},
   "outputs": [],
   "source": [
    "# make the data plottable in order to be able to use SectorPhi\n",
    "data_plottable_c0 = plottable_2D(\n",
    "    data=data_circle0,\n",
    "    err_data=np.zeros(data_circle0.shape),\n",
    "    qx_data=qx_data,\n",
    "    qy_data=qy_data, \n",
    "    q_data=np.sqrt(qx_data**2+qy_data**2)\n",
    ")\n",
    "\n",
    "sector_circle0 = sect(data_plottable_c0)\n",
    "\n",
    "plot_result(sector_circle0, 'Matrix of 1s')"
   ]
  },
  {
   "cell_type": "code",
   "execution_count": null,
   "id": "bdd5f6f1-f827-457d-9d6f-4d867095979d",
   "metadata": {},
   "outputs": [],
   "source": [
    "# check that the azimuthal average corresponds to the number of ones per sector divided \n",
    "# by the size of the sector.\n",
    "nbins_per_sect = (nbins**2/nbins_phi)\n",
    "assert all(sector_circle0.y == [\n",
    "    count_mm/nbins_per_sect, \n",
    "    count_mp/nbins_per_sect, \n",
    "    count_pp/nbins_per_sect, \n",
    "    count_pm/nbins_per_sect]),\\\n",
    "\"\"\"the result from SectorPhi does not correspond to the number of ones per sector divided \n",
    "by the number of bins per sector\"\"\""
   ]
  },
  {
   "cell_type": "markdown",
   "id": "ef9a79b1-0397-4cf2-86aa-10287202685b",
   "metadata": {},
   "source": [
    "## Case 4: small square of 1s"
   ]
  },
  {
   "cell_type": "code",
   "execution_count": null,
   "id": "72a009ac-ed41-4b2d-826c-b06b68897bc0",
   "metadata": {},
   "outputs": [],
   "source": [
    "data_square = np.zeros((nbins, nbins))\n",
    "\n",
    "# counts per sectors \n",
    "count_mm = 0  # q_x<0, q_y<0\n",
    "count_mp = 0  # q_x<0, q_y>0\n",
    "count_pm = 0  # q_x>0, q_y<0\n",
    "count_pp = 0  # q_x>0, q_y>0\n",
    "\n",
    "for i in range(nbins):\n",
    "    for j in range(nbins):\n",
    "        if abs(i-nbins//2) <20 and abs(j-nbins//2) < 20:\n",
    "            data_square[i, j] = 1\n",
    "            # count ones in each sector\n",
    "            if qx_data_1d[i]>0:\n",
    "                if qy_data_1d[j]>0:\n",
    "                    count_pp += 1\n",
    "                else:\n",
    "                    count_pm += 1\n",
    "            else:\n",
    "                if qy_data_1d[j]>0:\n",
    "                    count_mp += 1\n",
    "                else:\n",
    "                    count_mm += 1\n",
    "            \n",
    "data_square = data_square.flatten()"
   ]
  },
  {
   "cell_type": "code",
   "execution_count": null,
   "id": "d17f9921-480b-4f34-b4f9-fb28c9db72ae",
   "metadata": {},
   "outputs": [],
   "source": [
    "# check that the sum of all 4 counts corresponds to the number of ones\n",
    "assert np.count_nonzero(data_square == 1) == count_mm + count_mp + count_pm + count_pp, \\\n",
    "\"\"\"Some of the 1-values have been missed.\"\"\""
   ]
  },
  {
   "cell_type": "code",
   "execution_count": null,
   "id": "8fed0485-d1b6-48e9-9baa-68bd170ef2c6",
   "metadata": {},
   "outputs": [],
   "source": [
    "plot_settings(data_square, 'Square of 1s')"
   ]
  },
  {
   "cell_type": "code",
   "execution_count": null,
   "id": "f0aa0a83-2951-4d39-b160-518d63ccc7e2",
   "metadata": {},
   "outputs": [],
   "source": [
    "# make the data plottable in order to be able to use SectorPhi\n",
    "data_plottable_sq = plottable_2D(\n",
    "    data=data_square,\n",
    "    err_data=np.zeros(data_square.shape),\n",
    "    qx_data=qx_data,\n",
    "    qy_data=qy_data, \n",
    "    q_data=np.sqrt(qx_data**2 + qy_data**2)\n",
    ")\n",
    "\n",
    "sector_sq = sect(data_plottable_sq)\n",
    "\n",
    "plot_result(sector_sq, 'Square of 1s')"
   ]
  },
  {
   "cell_type": "code",
   "execution_count": null,
   "id": "9489ead3-aeab-4843-a340-b8a0ac72b8da",
   "metadata": {},
   "outputs": [],
   "source": [
    "# check that the azimuthal average corresponds to the number of ones per sector divided \n",
    "# by the size of the sector.\n",
    "nbins_per_sect = (nbins**2/nbins_phi)\n",
    "assert all(sector_sq.y == [\n",
    "    count_mm/nbins_per_sect, \n",
    "    count_mp/nbins_per_sect, \n",
    "    count_pp/nbins_per_sect, \n",
    "    count_pm/nbins_per_sect]),\\\n",
    "\"\"\"the result from SectorPhi does not correspond to the number of ones per sector divided \n",
    "by the number of bins per sector\"\"\""
   ]
  },
  {
   "cell_type": "markdown",
   "id": "5fccc123-9bda-49a8-a9ba-ac4ac06879d6",
   "metadata": {},
   "source": [
    "## Case 5: small square of 1s and 0s on the axes"
   ]
  },
  {
   "cell_type": "code",
   "execution_count": null,
   "id": "d65683ee-af93-451a-b5fc-a94d55dc4ecf",
   "metadata": {},
   "outputs": [],
   "source": [
    "data_square0 = np.zeros((nbins, nbins))\n",
    "\n",
    "# counts per sectors \n",
    "count_mm = 0  # q_x<0, q_y<0\n",
    "count_mp = 0  # q_x<0, q_y>0\n",
    "count_pm = 0  # q_x>0, q_y>0\n",
    "count_pp = 0  # q_x>0, q_y>0\n",
    "\n",
    "for i in range(nbins):\n",
    "    for j in range(nbins):\n",
    "        if 0 < abs(i-nbins//2) < 20 and 0 < abs (j-nbins//2) < 20:\n",
    "            data_square0[i, j] = 1\n",
    "            # count ones in each sector\n",
    "            if qx_data_1d[i]>0:\n",
    "                if qy_data_1d[j]>0:\n",
    "                    count_pp += 1\n",
    "                else:\n",
    "                    count_pm += 1\n",
    "            else:\n",
    "                if qy_data_1d[j]>0:\n",
    "                    count_mp += 1\n",
    "                else:\n",
    "                    count_mm += 1  \n",
    "\n",
    "data_square0 = data_square0.flatten()"
   ]
  },
  {
   "cell_type": "code",
   "execution_count": null,
   "id": "37325509-d2d6-4865-a8bb-4eac5e7c80ff",
   "metadata": {},
   "outputs": [],
   "source": [
    "assert np.count_nonzero(data_square0==1) == count_mm + count_pp + count_mp + count_pm, \\\n",
    "\"\"\"Some of the 1-values have been missed.\"\"\""
   ]
  },
  {
   "cell_type": "code",
   "execution_count": null,
   "id": "aabc6ea2-10ed-4211-8f91-8dcc77b3cf62",
   "metadata": {},
   "outputs": [],
   "source": [
    "plot_settings(data_square0, 'Square of 1s with 0s on axes')"
   ]
  },
  {
   "cell_type": "code",
   "execution_count": null,
   "id": "3e2ce66a-83a1-49ee-8141-b945b9c09475",
   "metadata": {},
   "outputs": [],
   "source": [
    "# make the data plottable in order to be able to use SectorPhi\n",
    "data_plottable_sq0 = plottable_2D(\n",
    "    data=data_square0,\n",
    "    err_data=np.zeros(data_square0.shape),\n",
    "    qx_data=qx_data,\n",
    "    qy_data=qy_data, \n",
    "    q_data=np.sqrt(qx_data**2 + qy_data**2)\n",
    ")\n",
    "\n",
    "sector_sq0 = sect(data_plottable_sq0)\n",
    "\n",
    "plot_result(sector_sq0, 'Square0')"
   ]
  },
  {
   "cell_type": "code",
   "execution_count": null,
   "id": "8dc28bd7-757a-4d53-a24f-d444e07a55e6",
   "metadata": {},
   "outputs": [],
   "source": [
    "# check that the azimuthal average corresponds to the number of ones per sector divided \n",
    "# by the size of the sector.\n",
    "nbins_per_sect = (nbins**2/nbins_phi)\n",
    "assert all(sector_sq0.y == [\n",
    "    count_mm/nbins_per_sect,\n",
    "    count_mp/nbins_per_sect,\n",
    "    count_pp/nbins_per_sect,\n",
    "    count_pm/nbins_per_sect]),\\\n",
    "\"\"\"the result from SectorPhi does not correspond to the number of ones per sector divided by \n",
    "the number of bins per sector\"\"\""
   ]
  },
  {
   "cell_type": "markdown",
   "id": "b1c76ad0-7a5b-4f77-9b88-9d10a8d62a06",
   "metadata": {},
   "source": [
    "## Case 6: quadrant with different constant values in each sector"
   ]
  },
  {
   "cell_type": "code",
   "execution_count": null,
   "id": "80ad7930-8ef5-48e2-93f7-e4860e85de0f",
   "metadata": {},
   "outputs": [],
   "source": [
    "data_quadrant = np.zeros((nbins, nbins))\n",
    "\n",
    "# counts per sectors \n",
    "# (the index marks the area containing this value\n",
    "count_1 = 0\n",
    "count_2 = 0\n",
    "count_3 = 0\n",
    "count_4 = 0\n",
    "\n",
    "for i in range(nbins):\n",
    "    for j in range(nbins):\n",
    "        if i < nbins//2:\n",
    "            if j < nbins//2:\n",
    "                data_quadrant[i, j] = 3\n",
    "                count_3 += 1\n",
    "            else:\n",
    "                data_quadrant[i, j] = 4\n",
    "                count_4 += 1\n",
    "        else:\n",
    "            if j < nbins//2:\n",
    "                data_quadrant[i, j] = 2\n",
    "                count_2 += 1\n",
    "            else:\n",
    "                data_quadrant[i, j] = 1\n",
    "                count_1 += 1\n",
    "\n",
    "data_quadrant = data_quadrant.flatten()"
   ]
  },
  {
   "cell_type": "code",
   "execution_count": null,
   "id": "502b3bea-51c3-41c4-a8a8-61601faae04a",
   "metadata": {},
   "outputs": [],
   "source": [
    "# Check the count for each sector\n",
    "assert np.count_nonzero(data_quadrant == 1) == count_1\n",
    "assert np.count_nonzero(data_quadrant == 2) == count_2\n",
    "assert np.count_nonzero(data_quadrant == 3) == count_3\n",
    "assert np.count_nonzero(data_quadrant == 4) == count_4"
   ]
  },
  {
   "cell_type": "code",
   "execution_count": null,
   "id": "defacf4b-c1eb-43fd-8c6a-c28cda34a4a8",
   "metadata": {},
   "outputs": [],
   "source": [
    "fig, ax = plt.subplots()\n",
    "\n",
    "cmap = mpl.colors.ListedColormap(['#2c7bb6','#e389b9', '#746ab0', '#6c5b7b'])\n",
    "norm = mpl.colors.BoundaryNorm([0.5, 1.5, 2.5, 3.5, 4.5], cmap.N)\n",
    "\n",
    "c = plt.pcolormesh(\n",
    "    qx_data_1d, \n",
    "    qy_data_1d, \n",
    "    data_quadrant.reshape(nb_points_x, nb_points_y),\n",
    "    cmap=cmap,\n",
    "    norm=norm)\n",
    "\n",
    "# plot sectors' limits\n",
    "for i in range(sect.nbins):\n",
    "    ax.plot(qx_data_1d, lines_sectors[i, :], 'c--')\n",
    "    \n",
    "# plot rmin, rmax\n",
    "a_circle_min = plt.Circle((0, 0), r_min, fill=False, edgecolor=\"orange\", linestyle=\"--\")\n",
    "ax.add_artist(a_circle_min)\n",
    "\n",
    "a_circle_max = plt.Circle((0, 0), r_max, fill=False, edgecolor=\"orange\", linestyle=\"--\")\n",
    "ax.add_artist(a_circle_max)\n",
    "\n",
    "ax.grid()\n",
    "ax.set_xlim((np.min(qx_data_1d), np.max(qx_data_1d)))\n",
    "ax.set_ylim((np.min(qy_data_1d), np.max(qy_data_1d)))\n",
    "ax.set(title='Quadrant',\n",
    "       xlabel=r'$q_x$',\n",
    "       ylabel=r'$q_y$')\n",
    "cbar = plt.colorbar(c, ticks=[1, 2, 3, 4], format='%d');"
   ]
  },
  {
   "cell_type": "code",
   "execution_count": null,
   "id": "e53502e7-182a-46dc-8359-8fa40c68beda",
   "metadata": {},
   "outputs": [],
   "source": [
    "# make the data plottable in order to be able to use SectorPhi\n",
    "data_plottable_q = plottable_2D(\n",
    "    data=data_quadrant,\n",
    "    err_data=np.zeros(data_quadrant.shape),\n",
    "    qx_data=qx_data,\n",
    "    qy_data=qy_data, \n",
    "    q_data=np.sqrt(qx_data**2 + qy_data**2))\n",
    "\n",
    "sector_quadrant = sect(data_plottable_q)\n",
    "\n",
    "plot_result(sector_sq0, 'Quadrant')"
   ]
  },
  {
   "cell_type": "code",
   "execution_count": null,
   "id": "01a1ce7c-6688-4b1b-b95e-664a89fd3933",
   "metadata": {},
   "outputs": [],
   "source": [
    "sector_quadrant.y"
   ]
  },
  {
   "cell_type": "code",
   "execution_count": null,
   "id": "e52eab27-c859-4843-97bb-fc4981ee2728",
   "metadata": {},
   "outputs": [],
   "source": []
  }
 ],
 "metadata": {
  "kernelspec": {
   "display_name": "Python 3 (ipykernel)",
   "language": "python",
   "name": "python3"
  },
  "language_info": {
   "codemirror_mode": {
    "name": "ipython",
    "version": 3
   },
   "file_extension": ".py",
   "mimetype": "text/x-python",
   "name": "python",
   "nbconvert_exporter": "python",
   "pygments_lexer": "ipython3",
   "version": "3.9.13"
  }
 },
 "nbformat": 4,
 "nbformat_minor": 5
}
