{
 "cells": [
  {
   "cell_type": "markdown",
   "id": "98ac57ff-a0d7-4010-8a23-45e59d70dd06",
   "metadata": {
    "tags": []
   },
   "source": [
    "## Sasmodels compute example"
   ]
  },
  {
   "cell_type": "markdown",
   "id": "24f46373-2fe8-4ecb-a7ed-ad99a17c6816",
   "metadata": {},
   "source": [
    "The following example demonstrates how to generate a scattering pattern of a form factor of the cylinder model using sasmodels library. It requires sasmodels to be installed in the path."
   ]
  },
  {
   "cell_type": "markdown",
   "id": "daa4d97a-32d6-464f-a252-438d1d3146d7",
   "metadata": {},
   "source": [
    "## Import modules"
   ]
  },
  {
   "cell_type": "code",
   "execution_count": null,
   "id": "70015e71-882f-48c3-869c-15a75d86bd10",
   "metadata": {},
   "outputs": [],
   "source": [
    "from matplotlib import pyplot as plt\n",
    "from sasmodels.core import load_model\n",
    "from sasmodels.direct_model import call_kernel\n",
    "from numpy import logspace"
   ]
  },
  {
   "cell_type": "markdown",
   "id": "443884a8-461a-44a6-ab2a-72ecf9935f9c",
   "metadata": {},
   "source": [
    "## Setup q vector and compute model"
   ]
  },
  {
   "cell_type": "code",
   "execution_count": null,
   "id": "9c682021-7bb3-4030-b197-60977be58bfd",
   "metadata": {},
   "outputs": [],
   "source": [
    "model = load_model('cylinder')\n",
    "q = logspace(-3, -1, 200)\n",
    "kernel = model.make_kernel([q])\n",
    "Iq = call_kernel(kernel, dict(radius=200))"
   ]
  },
  {
   "cell_type": "markdown",
   "id": "480d1f8b-2728-405e-a995-5aa3ae9c99a0",
   "metadata": {},
   "source": [
    "## Plot model"
   ]
  },
  {
   "cell_type": "code",
   "execution_count": null,
   "id": "27e102c2-0585-4068-9ebd-2209383a81c7",
   "metadata": {},
   "outputs": [],
   "source": [
    "plt.loglog(q, Iq)\n",
    "plt.xlabel('q (1/A)')\n",
    "plt.ylabel('I(q)')\n",
    "plt.title('Cylinder with radius 200.')\n",
    "plt.show()"
   ]
  },
  {
   "cell_type": "code",
   "execution_count": null,
   "id": "0db3af5d-6918-44cd-84a7-574abe0210ce",
   "metadata": {},
   "outputs": [],
   "source": []
  }
 ],
 "metadata": {
  "kernelspec": {
   "display_name": "Python 3 (ipykernel)",
   "language": "python",
   "name": "python3"
  },
  "language_info": {
   "codemirror_mode": {
    "name": "ipython",
    "version": 3
   },
   "file_extension": ".py",
   "mimetype": "text/x-python",
   "name": "python",
   "nbconvert_exporter": "python",
   "pygments_lexer": "ipython3",
   "version": "3.8.12"
  }
 },
 "nbformat": 4,
 "nbformat_minor": 5
}
