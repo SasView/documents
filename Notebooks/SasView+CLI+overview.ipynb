{
 "cells": [
  {
   "cell_type": "markdown",
   "metadata": {},
   "source": [
    "# Overview"
   ]
  },
  {
   "cell_type": "markdown",
   "metadata": {},
   "source": [
    "<b>THIS NOTEBOOK IS DEPRACATED and won't work with latest version of sasmodels and sasview!</b>\n",
    "\n",
    "The main purpose of this notebook is to give an overview of possibilities that can be acheived with SasView CLI. SasView consists of a few major modules:\n"
   ]
  },
  {
   "cell_type": "code",
   "execution_count": null,
   "metadata": {},
   "outputs": [],
   "source": [
    "from IPython.display import Image\n",
    "Image(\"SasView_structure.png\")"
   ]
  },
  {
   "cell_type": "markdown",
   "metadata": {},
   "source": [
    "This notebook involves using SasCalc, SasModels and Bumps"
   ]
  },
  {
   "cell_type": "markdown",
   "metadata": {},
   "source": [
    "# SasCalc example"
   ]
  },
  {
   "cell_type": "markdown",
   "metadata": {},
   "source": [
    "A simple example demonstarting pair distance distribution function P(r) inversion. In SasView it is calculated using Moore formula (1980)"
   ]
  },
  {
   "cell_type": "code",
   "execution_count": null,
   "metadata": {},
   "outputs": [],
   "source": [
    "from sas.sascalc.dataloader.loader import Loader\n",
    "from sas.sascalc.pr.invertor import Invertor\n",
    "import matplotlib.pyplot as plt\n",
    "import numpy as np\n",
    "    \n",
    "loader = Loader()\n",
    "test_data = loader.load(\"sphere_80_err.txt\")\n",
    "x_data = test_data[0].x\n",
    "y_data = test_data[0].y\n",
    "z_data = test_data[0].dy\n",
    "\n",
    "pr = Invertor()\n",
    "pr.x = x_data\n",
    "pr.y = y_data\n",
    "pr.err = z_data\n",
    "\n",
    "pr.alpha = 2.6e-5\n",
    "pr.d_max = 160\n",
    "\n",
    "#nfunc - number of base functions to use.\n",
    "out, cov = pr.invert(nfunc=13)\n",
    "pr_value = []\n",
    "err_value = []\n",
    "r = np.arange(0.0, pr.d_max, pr.d_max / pr.x.size)\n",
    "for r_i in r:\n",
    "    (value, err) = pr.pr_err(out, cov, r_i)\n",
    "    pr_value.append(value)\n",
    "    err_value.append(err)\n",
    "\n",
    "plt.plot(r,pr_value)\n",
    "plt.xlabel(\"Distance [A]\")\n",
    "plt.ylabel(\"P(r)\")\n",
    "plt.title('P(r) distribution for a sphere with radius of 80Å')\n",
    "plt.show()"
   ]
  },
  {
   "cell_type": "markdown",
   "metadata": {},
   "source": [
    "# SasModels example"
   ]
  },
  {
   "cell_type": "markdown",
   "metadata": {},
   "source": [
    "SasModels is a library of form and strcuture factor functions. The following example demonstrates how to generate a scattering pattern of a form factor of the cylinder model using sasmodels library. It requires sasmodels to be installed in the path."
   ]
  },
  {
   "cell_type": "code",
   "execution_count": null,
   "metadata": {},
   "outputs": [],
   "source": [
    "from numpy import logspace\n",
    "from matplotlib import pyplot as plt\n",
    "from sasmodels.core import load_model\n",
    "from sasmodels.direct_model import call_kernel\n",
    "\n",
    "model = load_model('cylinder')\n",
    "q = logspace(-3, -1, 200)\n",
    "kernel = model.make_kernel([q])\n",
    "Iq = call_kernel(kernel, dict(radius=200))\n",
    "plt.loglog(q, Iq)\n",
    "plt.xlabel('q (1/A)')\n",
    "plt.ylabel('I(q)')\n",
    "plt.title('Cylinder with radius 200.')\n",
    "plt.show()"
   ]
  },
  {
   "cell_type": "markdown",
   "metadata": {},
   "source": [
    "# Fitting model function to data using bumps"
   ]
  },
  {
   "cell_type": "markdown",
   "metadata": {},
   "source": [
    "The model functions from sasmodels can be used to fit experimental data. This can be done using bumps, which simillar to sasmodels is a separate package and needs to be installed in your path."
   ]
  },
  {
   "cell_type": "code",
   "execution_count": null,
   "metadata": {},
   "outputs": [],
   "source": [
    "from sasmodels.core import load_model\n",
    "from sasmodels.bumps_model import Model, Experiment\n",
    "from sasmodels.data import load_data\n",
    "\n",
    "from bumps.names import *\n",
    "from bumps.fitters import fit\n",
    "from bumps.formatnum import format_uncertainty\n",
    "\n",
    "import pylab\n",
    "\n",
    "test_data = load_data('cyl_400_20.txt')\n",
    "kernel = load_model('cylinder')\n",
    "\n",
    "#We set some errors for demonstration\n",
    "test_data.dy = 0.2*test_data.y \n",
    "\n",
    "pars = dict(radius=35, \n",
    "            length=350,\n",
    "            background=0.0,\n",
    "            scale=1.0,\n",
    "            sld=4.0,\n",
    "            sld_solvent=1.0)\n",
    "model = Model(kernel, **pars)\n",
    "\n",
    "# SET THE FITTING PARAMETERS\n",
    "model.radius.range(1, 50)\n",
    "model.length.range(1, 500)\n",
    "\n",
    "M = Experiment(data=test_data, model=model)\n",
    "problem = FitProblem(M)\n",
    "print(\"Initial chisq\", problem.chisq_str())\n",
    "problem.plot()\n",
    "pylab.show()\n",
    "\n",
    "result = fit(problem, method='amoeba')\n",
    "print(\"Final chisq\", problem.chisq_str())\n",
    "for k, v, dv in zip(problem.labels(), result.x, result.dx):\n",
    "    print(k, \":\", format_uncertainty(v, dv))\n",
    "problem.plot()\n",
    "pylab.show()"
   ]
  },
  {
   "cell_type": "markdown",
   "metadata": {},
   "source": [
    "# Fitting to 2 dimensional data"
   ]
  },
  {
   "cell_type": "markdown",
   "metadata": {},
   "source": [
    "Sasmodels can also handle 2D data. This example ilustarted fitting 2D ellipsoid model to the data. bumps is called from external command, which may have some performanace benefits."
   ]
  },
  {
   "cell_type": "code",
   "execution_count": null,
   "metadata": {},
   "outputs": [],
   "source": [
    "from sasmodels.core import load_model\n",
    "from sasmodels.bumps_model import Model, Experiment\n",
    "from sasmodels.data import load_data, set_beam_stop, set_top\n",
    "\n",
    "from bumps.names import *\n",
    "from bumps.fitters import fit\n",
    "from bumps.formatnum import format_uncertainty\n",
    "\n",
    "import sys\n",
    "import os\n",
    "\n",
    "radial_data = load_data('DEC07267.DAT')\n",
    "set_beam_stop(radial_data, 0.00669, outer=0.025)\n",
    "set_top(radial_data, -.0185)\n",
    "\n",
    "kernel = load_model(\"ellipsoid\")\n",
    "\n",
    "model = Model(kernel,\n",
    "    scale=0.08,\n",
    "    radius_polar=15, radius_equatorial=800,\n",
    "    sld=.291, sld_solvent=7.105,\n",
    "    background=0,\n",
    "    theta=90, phi=0,\n",
    "    theta_pd=15, theta_pd_n=40, theta_pd_nsigma=3,\n",
    "    radius_polar_pd=0.222296, radius_polar_pd_n=1, radius_polar_pd_nsigma=0,\n",
    "    radius_equatorial_pd=.000128, radius_equatorial_pd_n=1, radius_equatorial_pd_nsigma=0,\n",
    "    phi_pd=0, phi_pd_n=20, phi_pd_nsigma=3,\n",
    "    )\n",
    "\n",
    "# SET THE FITTING PARAMETERS\n",
    "model.radius_polar.range(15, 1000)\n",
    "model.radius_equatorial.range(15, 1000)\n",
    "model.theta_pd.range(0, 360)\n",
    "model.background.range(0,1000)\n",
    "model.scale.range(0, 10)\n",
    "\n",
    "#cutoff = 0     # no cutoff on polydisperisity loops\n",
    "#cutoff = 1e-5  # default cutoff\n",
    "cutoff = 1e-3  # low precision cutoff\n",
    "M = Experiment(data=radial_data, model=model, cutoff=cutoff)\n",
    "problem = FitProblem(M)\n",
    "\n",
    "#Run bumps from command line\n",
    "model_file = \"ellipsoid_bumps.py\"\n",
    "bumps_cmd = \"python -m bumps.cli --fit=amoeba --steps=1000 --store=T1\"\n",
    "cmd = \" \".join((bumps_cmd, model_file))\n",
    "os.system(cmd)\n",
    "\n",
    "# DISPLAY SOME RESULTS (Bumps output)\n",
    "par_file = os.path.splitext(model_file)[0] + '.par'\n",
    "\n",
    "with open(os.path.join(\"T1\", par_file), 'r') as fid:\n",
    "    for line in fid:\n",
    "        parameter, value = line.split()\n",
    "        print (parameter, value) \n",
    "# PLOT OF \"THEORETICAL\" AND FITTED DATA (Bumps output)\n",
    "path_to_file_to_plot=os.path.join(\"T1\", \"ellipsoid_bumps-model.png\")\n",
    "from IPython.display import Image\n",
    "Image(filename = path_to_file_to_plot)     "
   ]
  },
  {
   "cell_type": "markdown",
   "metadata": {},
   "source": [
    "# Batch fitting example"
   ]
  },
  {
   "cell_type": "markdown",
   "metadata": {},
   "source": [
    "This is the example ilustarting how fitting to multiple data sets can be acheived. \n",
    "This example has been developed during code CodeCampV in Grenoble, Apr 2017 by Miguel Gonzales and Marco Adamo.\n",
    "\n",
    "The script reads a series of files from GRASP and fits the model defined by model.py.\n",
    "\n",
    "For example ellipsoid.py fits a ellipsoid form factor model. \n",
    "\n",
    "For each file a directory named Fit_filename is created. The file\n",
    "model.par contains the fitted parameters, which are gathered together into\n",
    "batch_fit.csv in the current directory.\n",
    "\n",
    "Finally the fitted parameters are plotted for the full series."
   ]
  },
  {
   "cell_type": "code",
   "execution_count": null,
   "metadata": {},
   "outputs": [],
   "source": [
    "import sys\n",
    "import os\n",
    "import numpy as np\n",
    "\n",
    "import matplotlib.pyplot as plt\n",
    "from bumps.dream.views import tile_axes  # make a grid of plots\n",
    "\n",
    "# GET INPUT AND ENSURE MODEL AND DATA FILES ARE DEFINED\n",
    "model_file = \"custom_ellipsoid.py\"\n",
    "data_files = [\"093191_201.dat\", \"093192_202.dat\",\"093193_203.dat\", \"093194_204.dat\", \"093195_205.dat\"]\n",
    "fit_opts = \"--fit=lm --steps=200 --ftol=1.5e-8 --xtol=1.5e-8\"\n",
    "fit_opts = [v for v in fit_opts if v.startswith('--')]\n",
    "\n",
    "# CHECK THAT DATA FILES EXIST\n",
    "missing = [filename for filename in data_files if not os.path.isfile(filename)]\n",
    "if missing:\n",
    "    print(\"Missing data files: %s\" % \", \".join(missing))\n",
    "    sys.exit(1)\n",
    "\n",
    "# STORE DIRECTORY FOR BUMPS FITS\n",
    "def fit_dir(filename):\n",
    "    \"Return the store directory name for the given file\"\n",
    "    return \"Fit_\" + os.path.splitext(filename)[0]\n",
    "\n",
    "# LOOP OVER FILES AND CALL TO BUMPS FOR EACH OF THEM\n",
    "bumps_cmd = \"python -m bumps.cli --batch\"\n",
    "fit_opts = \" \".join(fit_opts)\n",
    "for data_file in data_files:\n",
    "    store_opts = \"--store=\" + fit_dir(data_file)\n",
    "    cmd = \" \".join((bumps_cmd, fit_opts, store_opts, model_file, data_file))\n",
    "    os.system(cmd)\n",
    "\n",
    "# GATHER RESULTS\n",
    "results = {}\n",
    "par_file = os.path.splitext(model_file)[0] + '.par'\n",
    "for data_file in data_files:\n",
    "    with open(os.path.join(fit_dir(data_file), par_file), 'r') as fid:\n",
    "        for line in fid:\n",
    "            parameter, value = line.split()\n",
    "            results.setdefault(parameter, []).append(float(value))\n",
    "\n",
    "# SAVE RESULTS INTO FILE\n",
    "with open('batch_fit.csv', 'w') as fid:\n",
    "    parameters = list(sorted(results.keys()))\n",
    "    values_by_file = zip(*(v for k, v in sorted(results.items())))\n",
    "    fid.write(','.join(['filename'] + parameters) + '\\n')\n",
    "    for filename, values in zip(data_files, values_by_file):\n",
    "        fid.write(','.join([filename] + [str(v) for v in values]) + '\\n')\n",
    "\n",
    "# SHOW FITTED PARAMETERS\n",
    "nh, nw = tile_axes(len(results))\n",
    "ticks = np.arange(1, len(data_files)+1)\n",
    "labels = [os.path.splitext(filename)[0] for filename in data_files]\n",
    "for k, (parameter, values) in enumerate(sorted(results.items())):\n",
    "    plt.subplot(nh, nw, k+1)\n",
    "    plt.plot(ticks, values)\n",
    "    plt.xlim(ticks[0]-0.5, ticks[-1]+0.5)\n",
    "    if k%nh == nh-1:\n",
    "        plt.xticks(ticks, labels, rotation=30)\n",
    "    else:\n",
    "        plt.xticks(ticks, [' ']*len(labels))\n",
    "    plt.ylabel(parameter)\n",
    "plt.suptitle(\"Fits\")\n",
    "plt.show()"
   ]
  },
  {
   "cell_type": "markdown",
   "metadata": {},
   "source": [
    "Customized elipsoid model used by the previous script"
   ]
  },
  {
   "cell_type": "code",
   "execution_count": null,
   "metadata": {},
   "outputs": [],
   "source": [
    "from sasmodels.core import load_model\n",
    "from sasmodels.bumps_model import Model, Experiment\n",
    "from sasmodels.data import load_data, plot_data\n",
    "\n",
    "from bumps.names import *\n",
    "\n",
    "import sys\n",
    "import numpy as np\n",
    "\n",
    "# IMPORT THE DATA USED\n",
    "data = load_data(sys.argv[1])\n",
    "\n",
    "# DEFINE THE MODEL\n",
    "kernel = load_model('ellipsoid')\n",
    "\n",
    "pars = dict(scale=0.08, background=35,\n",
    "        radius_polar=15, radius_equatorial=800,\n",
    "        sld=.291, sld_solvent=7.105,\n",
    "        theta=89.9, phi=90,\n",
    "        theta_pd=0, theta_pd_n=0, theta_pd_nsigma=3,\n",
    "        phi_pd=0, phi_pd_n=20, phi_pd_nsigma=3,\n",
    "        radius_polar_pd=0.222296, radius_polar_pd_n=1, radius_polar_pd_nsigma=0,\n",
    "        radius_equatorial_pd=.000128, radius_equatorial_pd_n=1, radius_equatorial_pd_nsigma=0)\n",
    "\n",
    "model = Model(kernel, **pars)\n",
    "\n",
    "# PARAMETER RANGES (ONLY THOSE PARAMETERS ARE FITTED)\n",
    "model.scale.range(0, inf)\n",
    "model.background.range(-inf, inf)\n",
    "model.sld_solvent.range(-inf, inf)\n",
    "\n",
    "M = Experiment(data=data, model=model)\n",
    "\n",
    "problem = FitProblem(M)\n"
   ]
  },
  {
   "cell_type": "markdown",
   "metadata": {},
   "source": [
    "## Final remarks"
   ]
  },
  {
   "cell_type": "markdown",
   "metadata": {},
   "source": [
    "* Runing bumps via script vs bumps via fit() depends on the workflow and the resources one has. If you can run you problem on a batch queuing system and run a bunch of fits in parallel on cluster, then command line will be better.  For interactive use, it seems like calling fit() is a bit nicer."
   ]
  },
  {
   "cell_type": "markdown",
   "metadata": {},
   "source": [
    "* sasmodels and bumps are available from pypi and can be installed using following commands:"
   ]
  },
  {
   "cell_type": "code",
   "execution_count": null,
   "metadata": {},
   "outputs": [],
   "source": [
    "pip install sasmodels \n",
    "pip install bumps"
   ]
  },
  {
   "cell_type": "markdown",
   "metadata": {},
   "source": [
    "This can also be done from jupyter notebook with command:"
   ]
  },
  {
   "cell_type": "code",
   "execution_count": null,
   "metadata": {},
   "outputs": [],
   "source": [
    "import sys\n",
    "!{sys.executable} -m pip install bumps"
   ]
  },
  {
   "cell_type": "markdown",
   "metadata": {},
   "source": [
    "sascalc is distributed as a part of sasview and it is currently not avaialable from pypi. It can be easily installed by following: http://trac.sasview.org/wiki/CondaDevSetup5.0"
   ]
  },
  {
   "cell_type": "markdown",
   "metadata": {},
   "source": [
    "* You may need to call sas.sasview.setup_sasmodels() in your notebook to set the path to the plugin models and to retrieve the opencl setting."
   ]
  }
 ],
 "metadata": {
  "kernelspec": {
   "display_name": "Python 3 (ipykernel)",
   "language": "python",
   "name": "python3"
  },
  "language_info": {
   "codemirror_mode": {
    "name": "ipython",
    "version": 3
   },
   "file_extension": ".py",
   "mimetype": "text/x-python",
   "name": "python",
   "nbconvert_exporter": "python",
   "pygments_lexer": "ipython3",
   "version": "3.9.18"
  },
  "varInspector": {
   "cols": {
    "lenName": 16,
    "lenType": 16,
    "lenVar": 40
   },
   "kernels_config": {
    "python": {
     "delete_cmd_postfix": "",
     "delete_cmd_prefix": "del ",
     "library": "var_list.py",
     "varRefreshCmd": "print(var_dic_list())"
    },
    "r": {
     "delete_cmd_postfix": ") ",
     "delete_cmd_prefix": "rm(",
     "library": "var_list.r",
     "varRefreshCmd": "cat(var_dic_list()) "
    }
   },
   "types_to_exclude": [
    "module",
    "function",
    "builtin_function_or_method",
    "instance",
    "_Feature"
   ],
   "window_display": false
  }
 },
 "nbformat": 4,
 "nbformat_minor": 4
}
