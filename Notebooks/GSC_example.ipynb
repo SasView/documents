{
 "cells": [
  {
   "cell_type": "markdown",
   "id": "2d8236a9-ab48-4060-82f9-92b38e408ef6",
   "metadata": {},
   "source": [
    "### Using Generic Scattering Calculator from the notebook"
   ]
  },
  {
   "cell_type": "code",
   "execution_count": null,
   "id": "4e02c1b0-b122-4e33-b500-9b3cd0940e2d",
   "metadata": {},
   "outputs": [],
   "source": [
    "import numpy as np\n",
    "import math\n",
    "import matplotlib.pyplot as plt\n",
    "import os.path\n",
    "import re\n",
    "import time\n",
    "from scipy.spatial.transform import Rotation\n",
    "from IPython.display import clear_output\n",
    "#from sasdata.dataloader.loader import Loader\n",
    "from sas.sascalc.calculator import sas_gen   "
   ]
  },
  {
   "cell_type": "code",
   "execution_count": null,
   "id": "7a091115-bdbf-400e-b306-1a20da2d84b4",
   "metadata": {},
   "outputs": [],
   "source": [
    "qbin=80\n",
    "qrange=0.02\n",
    "counter=1\n",
    "sampleYaw=90\n",
    "samplePitch=0\n",
    "sampleRoll=0\n",
    "\n",
    "#set rotation of sample to yaw 90Deg such that z is along magn field vector at instrument\n",
    "sampleCoord = Rotation.from_euler(\"XYZ\", [np.radians(sampleYaw), np.radians(samplePitch), np.radians(sampleRoll)])\n",
    "\n",
    "SLDNuc=6.7e-6#for maghemite\n",
    "\n",
    "#create mesh of q values for 2Dscattering\n",
    "q = np.linspace(-qrange, qrange, qbin)\n",
    "qx, qy = np.meshgrid(q, q)\n",
    "\n",
    "t = time.time()\n",
    "\n",
    "path = \"notebook_files\"\n",
    "ofpath = f\"{path}/A_Raw_Example-1.omf\"\n",
    "oreader = sas_gen.OMFReader()\n",
    "omfdata = oreader.read(ofpath) \n",
    "model = sas_gen.GenSAS()\n",
    "model.set_sld_data(omfdata)\n",
    "\n",
    "\n",
    "model.set_rotations(xyz_to_UVW=sampleCoord)\n",
    "#set beam + Nuclear SLD parameter\n",
    "model.params['scale'] = 1.0\n",
    "model.params['background'] = 1e-7\n",
    "model.params['solvent_SLD'] = SLDNuc\n",
    "# SANSpol measurement with field perp to beam\n",
    "model.params['Up_frac_out'] = 0.5\n",
    "model.params['Up_theta'] = 90\n",
    "model.params['Up_phi'] = 0\n",
    "\n",
    "\n",
    "#calulate scattering for spin up\n",
    "print(\"SANSPOL1\")\n",
    "model.params['Up_frac_in'] = 1\n",
    "result1 = model.runXY([qx, qy])\n",
    "#calulate scattering for spin down\n",
    "print(\"SANSPOL0\")\n",
    "model.params['Up_frac_in'] = 0\n",
    "result0 = model.runXY([qx, qy])\n",
    "#difference is nuclear-magnetic interference scattering\n",
    "result=result1-result0\n",
    "\n",
    "#create data list of 2D scattering CS\n",
    "mapped = zip(qx.flat,qy.flat,result.flat)\n",
    "datalist=list(mapped)\n",
    "print(\"write file for CS difference\")\n",
    "#Write result\n",
    "file = open('Diff_SANSPOL.dat', 'w')\n",
    "file.write(\"Data columns Qx - Qy - I(Qx,Qy) \\n\")\n",
    "file.write(\"ASCII data \\n\")\n",
    "for items in datalist:\n",
    "    file.writelines(re.sub('[(,)]', '', str(items))+\"\\n\")\n",
    "    elapsed = time.time() -t\n",
    "    counter =counter +1\n",
    "file.close()"
   ]
  },
  {
   "cell_type": "code",
   "execution_count": null,
   "id": "5b099b9d-f23c-459f-85a3-482cc33157cf",
   "metadata": {},
   "outputs": [],
   "source": []
  }
 ],
 "metadata": {
  "kernelspec": {
   "display_name": "Python 3 (ipykernel)",
   "language": "python",
   "name": "python3"
  },
  "language_info": {
   "codemirror_mode": {
    "name": "ipython",
    "version": 3
   },
   "file_extension": ".py",
   "mimetype": "text/x-python",
   "name": "python",
   "nbconvert_exporter": "python",
   "pygments_lexer": "ipython3",
   "version": "3.9.18"
  }
 },
 "nbformat": 4,
 "nbformat_minor": 5
}
