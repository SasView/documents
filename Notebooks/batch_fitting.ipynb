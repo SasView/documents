{
 "cells": [
  {
   "cell_type": "markdown",
   "id": "f30fed05-45f7-4176-be36-b79eb6445815",
   "metadata": {},
   "source": [
    "## Batch fitting\n",
    "This is the example ilustarting how fitting to multiple data sets can be acheived. This example has been developed during code CodeCampV in Grenoble, Apr 2017 by Miguel Gonzales and Marco Adamo.\n",
    "The script reads a series of files from GRASP and fits the model defined by model.py.\n",
    "For example ellipsoid.py fits a ellipsoid form factor model.\n",
    "For each file a directory named Fit_filename is created. The file model.par contains the fitted parameters, which are gathered together into batch_fit.csv in the current directory.\n",
    "Finally the fitted parameters are plotted for the full series."
   ]
  },
  {
   "cell_type": "code",
   "execution_count": null,
   "id": "f47cf9a3-fb11-45f7-b8cc-29f78340e340",
   "metadata": {},
   "outputs": [],
   "source": [
    "import sys\n",
    "import os\n",
    "import numpy as np\n",
    "\n",
    "import matplotlib.pyplot as plt\n",
    "from bumps.dream.views import tile_axes  # make a grid of plots"
   ]
  },
  {
   "cell_type": "markdown",
   "id": "6e28189b-e94f-41f5-87ae-ee85b128d237",
   "metadata": {},
   "source": [
    "### Load data and set up parameters"
   ]
  },
  {
   "cell_type": "code",
   "execution_count": null,
   "id": "265c1d9b-b0b8-4780-9829-f61e7639ace6",
   "metadata": {},
   "outputs": [],
   "source": [
    "model_file = \"custom_ellipsoid.py\"\n",
    "data_files = [\"093191_201.dat\", \"093192_202.dat\",\"093193_203.dat\", \"093194_204.dat\", \"093195_205.dat\"]\n",
    "#ftol: f(x) tolerance uses differences in the function value to decide when the fit is complete\n",
    "#xtol: x tolerance uses differences in the parameter value to decide when the fit is complete\n",
    "fit_opts = \"--fit=lm --steps=200 --ftol=1.5e-8 --xtol=1.5e-8\"\n",
    "fit_opts = [v for v in fit_opts if v.startswith('--')]"
   ]
  },
  {
   "cell_type": "markdown",
   "id": "afc4192f-6d00-4390-8dfd-79df9470f1c4",
   "metadata": {},
   "source": [
    "### Check that data files exist"
   ]
  },
  {
   "cell_type": "code",
   "execution_count": null,
   "id": "7609ccc5-9ce9-46d2-88b2-18c28bda8025",
   "metadata": {},
   "outputs": [],
   "source": [
    "missing = [filename for filename in data_files if not os.path.isfile(filename)]\n",
    "if missing:\n",
    "    print(\"Missing data files: %s\" % \", \".join(missing))\n",
    "    sys.exit(1)"
   ]
  },
  {
   "cell_type": "markdown",
   "id": "3aacb7a3-3ca8-4a41-8a37-676243a60447",
   "metadata": {},
   "source": [
    "### Store directory for bumps fits"
   ]
  },
  {
   "cell_type": "code",
   "execution_count": null,
   "id": "92cc1fc1-3f9d-4674-87fe-2de418666f60",
   "metadata": {},
   "outputs": [],
   "source": [
    "def fit_dir(filename):\n",
    "    \"Return the store directory name for the given file\"\n",
    "    return \"Fit_\" + os.path.splitext(filename)[0]"
   ]
  },
  {
   "cell_type": "markdown",
   "id": "ba1aacfd-08e6-4d30-9f53-950a435006ed",
   "metadata": {},
   "source": [
    "### Loop over files in bumps\n",
    "**Note:** Bumps is run from command line"
   ]
  },
  {
   "cell_type": "code",
   "execution_count": null,
   "id": "f652cccf-c6be-4fa3-b315-1022cedb9ed8",
   "metadata": {},
   "outputs": [],
   "source": [
    "bumps_cmd = \"python -m bumps.cli --batch\"\n",
    "fit_opts = \" \".join(fit_opts)\n",
    "for data_file in data_files:\n",
    "    store_opts = \"--store=\" + fit_dir(data_file)\n",
    "    cmd = \" \".join((bumps_cmd, fit_opts, store_opts, model_file, data_file))\n",
    "    os.system(cmd)"
   ]
  },
  {
   "cell_type": "markdown",
   "id": "473d357d-239f-4642-a2d3-4561a0fc82ed",
   "metadata": {},
   "source": [
    "### Gather results"
   ]
  },
  {
   "cell_type": "code",
   "execution_count": null,
   "id": "81fffa1d-4f17-4f96-bf8d-679cd84b96a1",
   "metadata": {},
   "outputs": [],
   "source": [
    "results = {}\n",
    "par_file = os.path.splitext(model_file)[0] + '.par'\n",
    "for data_file in data_files:\n",
    "    with open(os.path.join(fit_dir(data_file), par_file), 'r') as fid:\n",
    "        for line in fid:\n",
    "            parameter, value = line.split()\n",
    "            results.setdefault(parameter, []).append(float(value))"
   ]
  },
  {
   "cell_type": "markdown",
   "id": "d44b06bb-5e70-469e-820c-60b6d3c1bbed",
   "metadata": {},
   "source": [
    "### Save results into file"
   ]
  },
  {
   "cell_type": "code",
   "execution_count": null,
   "id": "e4154859-15c4-4367-bf0d-9dbbababe2d5",
   "metadata": {},
   "outputs": [],
   "source": [
    "with open('batch_fit.csv', 'w') as fid:\n",
    "    parameters = list(sorted(results.keys()))\n",
    "    values_by_file = zip(*(v for k, v in sorted(results.items())))\n",
    "    fid.write(','.join(['filename'] + parameters) + '\\n')\n",
    "    for filename, values in zip(data_files, values_by_file):\n",
    "        fid.write(','.join([filename] + [str(v) for v in values]) + '\\n')"
   ]
  },
  {
   "cell_type": "markdown",
   "id": "5b2eb8a1-41bb-47c5-b096-c9ab3ec81c67",
   "metadata": {},
   "source": [
    "### Show fitted parameters"
   ]
  },
  {
   "cell_type": "code",
   "execution_count": null,
   "id": "07573b2b-b16f-4d5d-9c0b-dad7bab62c89",
   "metadata": {},
   "outputs": [],
   "source": [
    "nh, nw = tile_axes(len(results))\n",
    "ticks = np.arange(1, len(data_files)+1)\n",
    "labels = [os.path.splitext(filename)[0] for filename in data_files]\n",
    "for k, (parameter, values) in enumerate(sorted(results.items())):\n",
    "    plt.subplot(nh, nw, k+1)\n",
    "    plt.plot(ticks, values)\n",
    "    plt.xlim(ticks[0]-0.5, ticks[-1]+0.5)\n",
    "    if k%nh == nh-1:\n",
    "        plt.xticks(ticks, labels, rotation=30)\n",
    "    else:\n",
    "        plt.xticks(ticks, [' ']*len(labels))\n",
    "    plt.ylabel(parameter)\n",
    "plt.suptitle(\"Fits\")\n",
    "plt.show()"
   ]
  },
  {
   "cell_type": "code",
   "execution_count": null,
   "id": "d7210f47-838d-4292-af16-dafc342d9c98",
   "metadata": {},
   "outputs": [],
   "source": []
  }
 ],
 "metadata": {
  "kernelspec": {
   "display_name": "Python 3 (ipykernel)",
   "language": "python",
   "name": "python3"
  },
  "language_info": {
   "codemirror_mode": {
    "name": "ipython",
    "version": 3
   },
   "file_extension": ".py",
   "mimetype": "text/x-python",
   "name": "python",
   "nbconvert_exporter": "python",
   "pygments_lexer": "ipython3",
   "version": "3.8.12"
  }
 },
 "nbformat": 4,
 "nbformat_minor": 5
}
