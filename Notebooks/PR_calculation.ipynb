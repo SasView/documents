{
 "cells": [
  {
   "cell_type": "markdown",
   "id": "34a49a16-db11-42a8-8713-d363f962ddbc",
   "metadata": {},
   "source": [
    "## P(r) function calculation"
   ]
  },
  {
   "cell_type": "markdown",
   "id": "91efdd7c-5d96-4533-bad8-958a3d3c9e59",
   "metadata": {},
   "source": [
    "A simple example demonstarting pair distance distribution function P(r) inversion. In SasView it is calculated using Moore formula (1980)"
   ]
  },
  {
   "cell_type": "markdown",
   "id": "9f33c22b-d0bb-4b01-8539-7e21692f3601",
   "metadata": {},
   "source": [
    "## Load modules\n",
    "**Note:** No sasmodels"
   ]
  },
  {
   "cell_type": "code",
   "execution_count": null,
   "id": "25ae4ee7-aed8-4e80-a297-d0bd9dbe3c90",
   "metadata": {},
   "outputs": [],
   "source": [
    "from sasview.src.sas.sascalc.dataloader.loader import Loader\n",
    "from sas.sascalc.pr.invertor import Invertor\n",
    "import matplotlib.pyplot as plt\n",
    "import numpy as np"
   ]
  },
  {
   "cell_type": "markdown",
   "id": "10617d3e-d0a3-4285-86f8-4d2f7025cf80",
   "metadata": {},
   "source": [
    "## Load data"
   ]
  },
  {
   "cell_type": "code",
   "execution_count": null,
   "id": "110677b7-284f-4b1d-801b-840fd315e65b",
   "metadata": {},
   "outputs": [],
   "source": [
    "loader = Loader()\n",
    "test_data = loader.load(\"sphere_80_err.txt\")\n",
    "x_data = test_data[0].x\n",
    "y_data = test_data[0].y\n",
    "z_data = test_data[0].dy"
   ]
  },
  {
   "cell_type": "markdown",
   "id": "ac81a3a6-5e61-4109-9b66-4e7b367fa7bd",
   "metadata": {},
   "source": [
    "## Setup invertor object"
   ]
  },
  {
   "cell_type": "code",
   "execution_count": null,
   "id": "91ef62e4-20bc-4a70-85f2-98956c88bb44",
   "metadata": {},
   "outputs": [],
   "source": [
    "pr = Invertor()\n",
    "pr.x = x_data\n",
    "pr.y = y_data\n",
    "pr.err = z_data\n",
    "\n",
    "pr.alpha = 2.6e-5\n",
    "pr.d_max = 160"
   ]
  },
  {
   "cell_type": "markdown",
   "id": "af9b5a8a-9373-406d-a675-c24600392fe0",
   "metadata": {},
   "source": [
    "## Perform inversion"
   ]
  },
  {
   "cell_type": "code",
   "execution_count": null,
   "id": "5ea05c26-20c0-4376-b2af-17a7bd648e7b",
   "metadata": {},
   "outputs": [],
   "source": [
    "#nfunc - number of base functions to use.\n",
    "out, cov = pr.invert(nfunc=13)\n",
    "pr_value = []\n",
    "err_value = []\n",
    "r = np.arange(0.0, pr.d_max, pr.d_max / pr.x.size)\n",
    "for r_i in r:\n",
    "    (value, err) = pr.pr_err(out, cov, r_i)\n",
    "    pr_value.append(value)\n",
    "    err_value.append(err)"
   ]
  },
  {
   "cell_type": "markdown",
   "id": "61775635-d185-4e7a-a636-9da5c0d66081",
   "metadata": {},
   "source": [
    "## Plot results"
   ]
  },
  {
   "cell_type": "code",
   "execution_count": null,
   "id": "8fd6bc03-b282-4f57-bdaf-5a29fc15462b",
   "metadata": {},
   "outputs": [],
   "source": [
    "plt.plot(r,pr_value)\n",
    "plt.xlabel(\"Distance [A]\")\n",
    "plt.ylabel(\"P(r)\")\n",
    "plt.title('P(r) distribution for a sphere with radius of 80Å')\n",
    "plt.show()"
   ]
  },
  {
   "cell_type": "code",
   "execution_count": null,
   "id": "d9d37a35-cfdf-439e-a5e0-e8b1de7622ac",
   "metadata": {},
   "outputs": [],
   "source": []
  }
 ],
 "metadata": {
  "kernelspec": {
   "display_name": "Python 3 (ipykernel)",
   "language": "python",
   "name": "python3"
  },
  "language_info": {
   "codemirror_mode": {
    "name": "ipython",
    "version": 3
   },
   "file_extension": ".py",
   "mimetype": "text/x-python",
   "name": "python",
   "nbconvert_exporter": "python",
   "pygments_lexer": "ipython3",
   "version": "3.8.12"
  }
 },
 "nbformat": 4,
 "nbformat_minor": 5
}
