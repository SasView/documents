{
 "cells": [
  {
   "cell_type": "markdown",
   "id": "d25e5c40-d778-418c-bff4-7ecba15692e7",
   "metadata": {},
   "source": [
    "## SasView scripts"
   ]
  },
  {
   "cell_type": "markdown",
   "id": "00665216-59d1-493c-9ea2-010cdf7c0b8a",
   "metadata": {},
   "source": [
    "SasView python scripts can be run from: \n",
    "* Python Shelll inside SasView (in principle possible but requires TLC)\n",
    "* As a standalone scripts\n",
    "* In Jupyter notebooks\n"
   ]
  },
  {
   "cell_type": "markdown",
   "id": "e74cc792-65ee-4dbe-914c-5a5c3509f769",
   "metadata": {},
   "source": [
    "### Jupyter notebook"
   ]
  },
  {
   "cell_type": "markdown",
   "id": "4fe49005-3526-464e-b612-d3e8fa87db81",
   "metadata": {},
   "source": [
    "Run in the terminal: `pip install jupyterlab`"
   ]
  },
  {
   "cell_type": "markdown",
   "id": "c6cdaa31-02bc-4817-93a3-4b910a1062bd",
   "metadata": {},
   "source": [
    "### SasView modules"
   ]
  },
  {
   "cell_type": "markdown",
   "id": "b6bd590a-9dda-4cb1-9d69-984606cfce37",
   "metadata": {},
   "source": [
    "![sasview_modules](notebook_files/SasView_structure.png)"
   ]
  },
  {
   "cell_type": "markdown",
   "id": "76d39de3-5a46-4b74-bfc0-18f8a7cc8b32",
   "metadata": {},
   "source": [
    "### Examples"
   ]
  },
  {
   "cell_type": "markdown",
   "id": "5ce6305e-dd2c-4707-a811-68d07d98b7b9",
   "metadata": {},
   "source": [
    "* Compute sasmodel model\n",
    "* Simple fitting with sasmodels and bumps\n",
    "* P(r) calculation\n",
    "* Generic scattering calculator\n",
    "* More advanced fitting and connection with GUI\n",
    "* [Simultaenous fitting](https://github.com/caitwolf/sas-torials/tree/main/mini_tutorials)\n",
    "* Batch fitting"
   ]
  },
  {
   "cell_type": "markdown",
   "id": "6d5efc4b-fd85-426d-adc2-1002a058ba28",
   "metadata": {},
   "source": [
    "### Documentation"
   ]
  },
  {
   "cell_type": "markdown",
   "id": "d1244ded-877a-40d4-9641-2b269a9ca6dc",
   "metadata": {},
   "source": [
    "* [Sasmodels components](https://www.sasview.org/docs/dev/sasmodels-dev/index.html)\n",
    "* [Running sasview on cluster](https://github.com/SasView/sasmodels/blob/master/example/slurm_batch.py)"
   ]
  },
  {
   "cell_type": "code",
   "execution_count": null,
   "id": "cd4cebe9-1414-4589-8c0b-72d529d130fc",
   "metadata": {},
   "outputs": [],
   "source": []
  }
 ],
 "metadata": {
  "kernelspec": {
   "display_name": "Python 3 (ipykernel)",
   "language": "python",
   "name": "python3"
  },
  "language_info": {
   "codemirror_mode": {
    "name": "ipython",
    "version": 3
   },
   "file_extension": ".py",
   "mimetype": "text/x-python",
   "name": "python",
   "nbconvert_exporter": "python",
   "pygments_lexer": "ipython3",
   "version": "3.9.12"
  }
 },
 "nbformat": 4,
 "nbformat_minor": 5
}
