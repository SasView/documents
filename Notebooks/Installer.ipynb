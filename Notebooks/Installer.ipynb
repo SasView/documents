{
 "cells": [
  {
   "cell_type": "markdown",
   "id": "4726ce4f-171b-490e-b927-7296e4396bbf",
   "metadata": {
    "tags": []
   },
   "source": [
    "This notebook install necessary packages for sasmodels and SasView\n",
    "\n",
    "**Note1: SasView part is still quite experimental and will change in the future**\n",
    "\n",
    "**Note2: It is recommended to create new conda enviroment**"
   ]
  },
  {
   "cell_type": "markdown",
   "id": "75d01025-4bb2-40c3-ac22-06ded5ea31b3",
   "metadata": {},
   "source": [
    "##  Install sasmodels and bumps"
   ]
  },
  {
   "cell_type": "code",
   "execution_count": null,
   "id": "5e4109e4-1715-4594-9aa4-5cc6a4a67f74",
   "metadata": {},
   "outputs": [],
   "source": [
    "!pip install sasmodels bumps"
   ]
  },
  {
   "cell_type": "markdown",
   "id": "b508046c-8000-41af-96df-343c8d3e5eb3",
   "metadata": {},
   "source": [
    "##  Install SasView dependencies"
   ]
  },
  {
   "cell_type": "code",
   "execution_count": null,
   "id": "25138e3c-b696-4639-b17b-f68b592f9ce3",
   "metadata": {},
   "outputs": [],
   "source": [
    "!pip install numpy scipy matplotlib docutils \"pytest<6\" sphinx unittest-xml-reporting\n",
    "!pip install tinycc h5py sphinx pyparsing html5lib reportlab pybind11 appdirs\n",
    "!pip install six numba mako ipython qtconsole xhtml2pdf unittest-xml-reporting pylint\n",
    "!pip install qt5reactor periodictable PyQt5 uncertainties debugpy"
   ]
  },
  {
   "cell_type": "markdown",
   "id": "21be34a1-7041-4b81-b607-9ecf549d5bf1",
   "metadata": {},
   "source": [
    "## Clone sasview Github repository"
   ]
  },
  {
   "cell_type": "code",
   "execution_count": null,
   "id": "b7d0bd30-a57a-4330-947f-5f8d60b235fe",
   "metadata": {},
   "outputs": [],
   "source": [
    "!git clone --depth=1 --branch=v5.0.4 https://github.com/SasView/sasview.git sasview"
   ]
  },
  {
   "cell_type": "markdown",
   "id": "7512c7dc-672e-4aee-bc58-ac9fbf1b63ae",
   "metadata": {},
   "source": [
    "## Install SasView"
   ]
  },
  {
   "cell_type": "code",
   "execution_count": null,
   "id": "f62e713e-3027-4112-aa5a-8dedc0719f75",
   "metadata": {},
   "outputs": [],
   "source": [
    "%cd sasview\n",
    "!python setup.py build\n",
    "!python setup.py install"
   ]
  }
 ],
 "metadata": {
  "kernelspec": {
   "display_name": "Python 3 (ipykernel)",
   "language": "python",
   "name": "python3"
  },
  "language_info": {
   "codemirror_mode": {
    "name": "ipython",
    "version": 3
   },
   "file_extension": ".py",
   "mimetype": "text/x-python",
   "name": "python",
   "nbconvert_exporter": "python",
   "pygments_lexer": "ipython3",
   "version": "3.8.12"
  }
 },
 "nbformat": 4,
 "nbformat_minor": 5
}
